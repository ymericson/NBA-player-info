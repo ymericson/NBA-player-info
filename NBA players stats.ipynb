{
 "cells": [
  {
   "cell_type": "code",
   "execution_count": 5,
   "metadata": {
    "collapsed": true
   },
   "outputs": [],
   "source": [
    "import numpy as np\n",
    "import pandas as pd\n",
    "import matplotlib.pyplot as plt\n",
    "import seaborn as sns\n",
    "sns.set_style('whitegrid')\n",
    "from bs4 import BeautifulSoup, SoupStrainer\n",
    "import sys, string, requests, datetime, time\n",
    "%matplotlib inline"
   ]
  },
  {
   "cell_type": "code",
   "execution_count": 29,
   "metadata": {
    "collapsed": true
   },
   "outputs": [],
   "source": [
    "players_merged_df = pd.read_csv('Tables/players_merged_df.csv')"
   ]
  },
  {
   "cell_type": "code",
   "execution_count": 30,
   "metadata": {},
   "outputs": [
    {
     "data": {
      "text/html": [
       "<div>\n",
       "<style scoped>\n",
       "    .dataframe tbody tr th:only-of-type {\n",
       "        vertical-align: middle;\n",
       "    }\n",
       "\n",
       "    .dataframe tbody tr th {\n",
       "        vertical-align: top;\n",
       "    }\n",
       "\n",
       "    .dataframe thead th {\n",
       "        text-align: right;\n",
       "    }\n",
       "</style>\n",
       "<table border=\"1\" class=\"dataframe\">\n",
       "  <thead>\n",
       "    <tr style=\"text-align: right;\">\n",
       "      <th></th>\n",
       "      <th>name</th>\n",
       "      <th>active_from</th>\n",
       "      <th>active_to</th>\n",
       "      <th>birth_date</th>\n",
       "      <th>position</th>\n",
       "      <th>ppg</th>\n",
       "      <th>trb</th>\n",
       "      <th>ast</th>\n",
       "      <th>height_inches</th>\n",
       "      <th>weight</th>\n",
       "      <th>shooting_hand</th>\n",
       "      <th>draft</th>\n",
       "      <th>college</th>\n",
       "      <th>hs_name</th>\n",
       "      <th>hs_city</th>\n",
       "      <th>hs_state</th>\n",
       "      <th>url</th>\n",
       "    </tr>\n",
       "  </thead>\n",
       "  <tbody>\n",
       "    <tr>\n",
       "      <th>3712</th>\n",
       "      <td>Johnny Simmons</td>\n",
       "      <td>1947</td>\n",
       "      <td>1947</td>\n",
       "      <td>1924-07-07</td>\n",
       "      <td>G</td>\n",
       "      <td>NaN</td>\n",
       "      <td>NaN</td>\n",
       "      <td>NaN</td>\n",
       "      <td>73.0</td>\n",
       "      <td>184.0</td>\n",
       "      <td>NaN</td>\n",
       "      <td>NaN</td>\n",
       "      <td>New York University</td>\n",
       "      <td>NaN</td>\n",
       "      <td>NaN</td>\n",
       "      <td>NaN</td>\n",
       "      <td>/players/s/simmojo01.html</td>\n",
       "    </tr>\n",
       "    <tr>\n",
       "      <th>2781</th>\n",
       "      <td>Walt Miller</td>\n",
       "      <td>1947</td>\n",
       "      <td>1947</td>\n",
       "      <td>1915-07-30</td>\n",
       "      <td>F</td>\n",
       "      <td>NaN</td>\n",
       "      <td>NaN</td>\n",
       "      <td>NaN</td>\n",
       "      <td>74.0</td>\n",
       "      <td>190.0</td>\n",
       "      <td>NaN</td>\n",
       "      <td>NaN</td>\n",
       "      <td>Duquesne University</td>\n",
       "      <td>NaN</td>\n",
       "      <td>NaN</td>\n",
       "      <td>NaN</td>\n",
       "      <td>/players/m/millewa01.html</td>\n",
       "    </tr>\n",
       "    <tr>\n",
       "      <th>2783</th>\n",
       "      <td>John Mills</td>\n",
       "      <td>1947</td>\n",
       "      <td>1947</td>\n",
       "      <td>1919-09-07</td>\n",
       "      <td>C-F</td>\n",
       "      <td>NaN</td>\n",
       "      <td>NaN</td>\n",
       "      <td>NaN</td>\n",
       "      <td>80.0</td>\n",
       "      <td>203.0</td>\n",
       "      <td>NaN</td>\n",
       "      <td>NaN</td>\n",
       "      <td>Western Kentucky University</td>\n",
       "      <td>NaN</td>\n",
       "      <td>NaN</td>\n",
       "      <td>NaN</td>\n",
       "      <td>/players/m/millsjo01.html</td>\n",
       "    </tr>\n",
       "    <tr>\n",
       "      <th>3750</th>\n",
       "      <td>Belus Smawley</td>\n",
       "      <td>1947</td>\n",
       "      <td>1952</td>\n",
       "      <td>1918-03-20</td>\n",
       "      <td>G-F</td>\n",
       "      <td>12.7</td>\n",
       "      <td>2.8</td>\n",
       "      <td>2.3</td>\n",
       "      <td>73.0</td>\n",
       "      <td>195.0</td>\n",
       "      <td>Right</td>\n",
       "      <td>NaN</td>\n",
       "      <td>Appalachian State University</td>\n",
       "      <td>Ellenboro</td>\n",
       "      <td>Ellenboro</td>\n",
       "      <td>North Carolina</td>\n",
       "      <td>/players/s/smawlbe01.html</td>\n",
       "    </tr>\n",
       "    <tr>\n",
       "      <th>625</th>\n",
       "      <td>Don Carlson</td>\n",
       "      <td>1947</td>\n",
       "      <td>1951</td>\n",
       "      <td>1919-03-22</td>\n",
       "      <td>G-F</td>\n",
       "      <td>8.0</td>\n",
       "      <td>1.7</td>\n",
       "      <td>1.8</td>\n",
       "      <td>72.0</td>\n",
       "      <td>170.0</td>\n",
       "      <td>Right</td>\n",
       "      <td>NaN</td>\n",
       "      <td>University of Minnesota</td>\n",
       "      <td>Edison</td>\n",
       "      <td>Minneapolis</td>\n",
       "      <td>Minnesota</td>\n",
       "      <td>/players/c/carlsdo01.html</td>\n",
       "    </tr>\n",
       "  </tbody>\n",
       "</table>\n",
       "</div>"
      ],
      "text/plain": [
       "                name  active_from  active_to  birth_date position   ppg  trb  \\\n",
       "3712  Johnny Simmons         1947       1947  1924-07-07        G   NaN  NaN   \n",
       "2781     Walt Miller         1947       1947  1915-07-30        F   NaN  NaN   \n",
       "2783      John Mills         1947       1947  1919-09-07      C-F   NaN  NaN   \n",
       "3750   Belus Smawley         1947       1952  1918-03-20      G-F  12.7  2.8   \n",
       "625      Don Carlson         1947       1951  1919-03-22      G-F   8.0  1.7   \n",
       "\n",
       "      ast  height_inches  weight shooting_hand draft  \\\n",
       "3712  NaN           73.0   184.0           NaN   NaN   \n",
       "2781  NaN           74.0   190.0           NaN   NaN   \n",
       "2783  NaN           80.0   203.0           NaN   NaN   \n",
       "3750  2.3           73.0   195.0         Right   NaN   \n",
       "625   1.8           72.0   170.0         Right   NaN   \n",
       "\n",
       "                           college     hs_name      hs_city        hs_state  \\\n",
       "3712           New York University         NaN          NaN             NaN   \n",
       "2781           Duquesne University         NaN          NaN             NaN   \n",
       "2783   Western Kentucky University         NaN          NaN             NaN   \n",
       "3750  Appalachian State University  Ellenboro     Ellenboro  North Carolina   \n",
       "625        University of Minnesota     Edison   Minneapolis       Minnesota   \n",
       "\n",
       "                            url  \n",
       "3712  /players/s/simmojo01.html  \n",
       "2781  /players/m/millewa01.html  \n",
       "2783  /players/m/millsjo01.html  \n",
       "3750  /players/s/smawlbe01.html  \n",
       "625   /players/c/carlsdo01.html  "
      ]
     },
     "execution_count": 30,
     "metadata": {},
     "output_type": "execute_result"
    }
   ],
   "source": [
    "players_merged_df.sort_values(by='active_from').head()"
   ]
  },
  {
   "cell_type": "code",
   "execution_count": 46,
   "metadata": {
    "scrolled": false
   },
   "outputs": [
    {
     "data": {
      "text/html": [
       "<div>\n",
       "<style scoped>\n",
       "    .dataframe tbody tr th:only-of-type {\n",
       "        vertical-align: middle;\n",
       "    }\n",
       "\n",
       "    .dataframe tbody tr th {\n",
       "        vertical-align: top;\n",
       "    }\n",
       "\n",
       "    .dataframe thead th {\n",
       "        text-align: right;\n",
       "    }\n",
       "</style>\n",
       "<table border=\"1\" class=\"dataframe\">\n",
       "  <thead>\n",
       "    <tr style=\"text-align: right;\">\n",
       "      <th></th>\n",
       "      <th>ast</th>\n",
       "      <th>height</th>\n",
       "      <th>left</th>\n",
       "      <th>ppg</th>\n",
       "      <th>right</th>\n",
       "      <th>trb</th>\n",
       "      <th>weight</th>\n",
       "    </tr>\n",
       "    <tr>\n",
       "      <th>season</th>\n",
       "      <th></th>\n",
       "      <th></th>\n",
       "      <th></th>\n",
       "      <th></th>\n",
       "      <th></th>\n",
       "      <th></th>\n",
       "      <th></th>\n",
       "    </tr>\n",
       "  </thead>\n",
       "  <tbody>\n",
       "    <tr>\n",
       "      <th>1947</th>\n",
       "      <td>1.721739</td>\n",
       "      <td>74.322981</td>\n",
       "      <td>1.0</td>\n",
       "      <td>9.339130</td>\n",
       "      <td>22.0</td>\n",
       "      <td>3.791304</td>\n",
       "      <td>188.656250</td>\n",
       "    </tr>\n",
       "    <tr>\n",
       "      <th>1948</th>\n",
       "      <td>1.925000</td>\n",
       "      <td>74.570175</td>\n",
       "      <td>1.0</td>\n",
       "      <td>8.993750</td>\n",
       "      <td>31.0</td>\n",
       "      <td>3.671875</td>\n",
       "      <td>187.362832</td>\n",
       "    </tr>\n",
       "    <tr>\n",
       "      <th>1949</th>\n",
       "      <td>1.944444</td>\n",
       "      <td>75.197740</td>\n",
       "      <td>3.0</td>\n",
       "      <td>8.674603</td>\n",
       "      <td>60.0</td>\n",
       "      <td>3.974603</td>\n",
       "      <td>191.536723</td>\n",
       "    </tr>\n",
       "    <tr>\n",
       "      <th>1950</th>\n",
       "      <td>2.021138</td>\n",
       "      <td>75.324444</td>\n",
       "      <td>5.0</td>\n",
       "      <td>8.518699</td>\n",
       "      <td>118.0</td>\n",
       "      <td>4.040650</td>\n",
       "      <td>191.493274</td>\n",
       "    </tr>\n",
       "    <tr>\n",
       "      <th>1951</th>\n",
       "      <td>1.930065</td>\n",
       "      <td>75.843137</td>\n",
       "      <td>6.0</td>\n",
       "      <td>8.183660</td>\n",
       "      <td>147.0</td>\n",
       "      <td>3.984314</td>\n",
       "      <td>194.549020</td>\n",
       "    </tr>\n",
       "  </tbody>\n",
       "</table>\n",
       "</div>"
      ],
      "text/plain": [
       "             ast     height  left       ppg  right       trb      weight\n",
       "season                                                                  \n",
       "1947    1.721739  74.322981   1.0  9.339130   22.0  3.791304  188.656250\n",
       "1948    1.925000  74.570175   1.0  8.993750   31.0  3.671875  187.362832\n",
       "1949    1.944444  75.197740   3.0  8.674603   60.0  3.974603  191.536723\n",
       "1950    2.021138  75.324444   5.0  8.518699  118.0  4.040650  191.493274\n",
       "1951    1.930065  75.843137   6.0  8.183660  147.0  3.984314  194.549020"
      ]
     },
     "execution_count": 46,
     "metadata": {},
     "output_type": "execute_result"
    }
   ],
   "source": [
    "left = []\n",
    "right = []\n",
    "height = []\n",
    "weight = []\n",
    "ppg = []\n",
    "trb = []\n",
    "ast = []\n",
    "\n",
    "start = players_merged_df.active_from.min()\n",
    "end = players_merged_df.active_from.max()\n",
    "\n",
    "for year in range(start,end):\n",
    "    active = (players_merged_df.active_from.values <= year) & (players_merged_df.active_to >= year) # only include active players\n",
    "    height.append(np.mean(players_merged_df[active].height_inches)) # average height in inches\n",
    "    weight.append(np.mean(players_merged_df[active].weight)) # average weight in pounds\n",
    "    left.append(1.0*np.sum(players_merged_df[active].shooting_hand == 'Left')) # number of left handed shooters\n",
    "    right.append(1.0*np.sum(players_merged_df[active].shooting_hand == 'Right')) # number of right handed shooters\n",
    "    ppg.append(np.mean(players_merged_df[active].ppg))\n",
    "    trb.append(np.mean(players_merged_df[active].trb))\n",
    "    ast.append(np.mean(players_merged_df[active].ast))\n",
    "    \n",
    "# create a DataFrame with a summary\n",
    "stats_year = pd.DataFrame({'season': np.arange(start,end), \n",
    "                          'height': height,\n",
    "                          'weight': weight,\n",
    "                          'left': left,\n",
    "                          'right': right,\n",
    "                          'ppg': ppg,\n",
    "                          'trb': trb,\n",
    "                          'ast': ast}).set_index('season')\n",
    "\n",
    "# preview\n",
    "stats_year.head()"
   ]
  },
  {
   "cell_type": "code",
   "execution_count": 51,
   "metadata": {},
   "outputs": [
    {
     "data": {
      "text/plain": [
       "[<matplotlib.lines.Line2D at 0xe02b358>]"
      ]
     },
     "execution_count": 51,
     "metadata": {},
     "output_type": "execute_result"
    },
    {
     "data": {
      "image/png": "[encoded data removed]",
      "text/plain": [
       "<matplotlib.figure.Figure at 0xdfa8208>"
      ]
     },
     "metadata": {},
     "output_type": "display_data"
    }
   ],
   "source": [
    "plt.figure(figsize=(10,6))\n",
    "plt.plot(stats_year['height'])"
   ]
  },
  {
   "cell_type": "code",
   "execution_count": 52,
   "metadata": {},
   "outputs": [
    {
     "data": {
      "text/plain": [
       "[<matplotlib.lines.Line2D at 0xe22c438>]"
      ]
     },
     "execution_count": 52,
     "metadata": {},
     "output_type": "execute_result"
    },
    {
     "data": {
      "image/png": "[encoded data removed]",
      "text/plain": [
       "<matplotlib.figure.Figure at 0xe003c18>"
      ]
     },
     "metadata": {},
     "output_type": "display_data"
    }
   ],
   "source": [
    "plt.figure(figsize=(10,6))\n",
    "plt.plot(stats_year['weight'])"
   ]
  },
  {
   "cell_type": "code",
   "execution_count": null,
   "metadata": {
    "collapsed": true
   },
   "outputs": [],
   "source": []
  }
 ],
 "metadata": {
  "kernelspec": {
   "display_name": "Python 3",
   "language": "python",
   "name": "python3"
  },
  "language_info": {
   "codemirror_mode": {
    "name": "ipython",
    "version": 3
   },
   "file_extension": ".py",
   "mimetype": "text/x-python",
   "name": "python",
   "nbconvert_exporter": "python",
   "pygments_lexer": "ipython3",
   "version": "3.6.3"
  }
 },
 "nbformat": 4,
 "nbformat_minor": 2
}
